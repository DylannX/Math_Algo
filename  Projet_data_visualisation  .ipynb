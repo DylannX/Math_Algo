{
 "cells": [
  {
   "cell_type": "markdown",
   "metadata": {},
   "source": [
    "#  Projet Python data visualisation  "
   ]
  },
  {
   "cell_type": "code",
   "execution_count": 170,
   "metadata": {},
   "outputs": [],
   "source": [
    "import pandas as pd\n",
    "import numpy as np\n",
    "import matplotlib.pyplot as plt\n",
    "import seaborn as sns"
   ]
  },
  {
   "cell_type": "markdown",
   "metadata": {},
   "source": [
    "#### Dataset des résultats de courses de F1 de 1950 à 2021"
   ]
  },
  {
   "cell_type": "code",
   "execution_count": 171,
   "metadata": {
    "scrolled": true
   },
   "outputs": [
    {
     "data": {
      "text/html": [
       "<div>\n",
       "<style scoped>\n",
       "    .dataframe tbody tr th:only-of-type {\n",
       "        vertical-align: middle;\n",
       "    }\n",
       "\n",
       "    .dataframe tbody tr th {\n",
       "        vertical-align: top;\n",
       "    }\n",
       "\n",
       "    .dataframe thead th {\n",
       "        text-align: right;\n",
       "    }\n",
       "</style>\n",
       "<table border=\"1\" class=\"dataframe\">\n",
       "  <thead>\n",
       "    <tr style=\"text-align: right;\">\n",
       "      <th></th>\n",
       "      <th>resultId</th>\n",
       "      <th>raceId</th>\n",
       "      <th>driverId</th>\n",
       "      <th>constructorId</th>\n",
       "      <th>number</th>\n",
       "      <th>grid</th>\n",
       "      <th>position</th>\n",
       "      <th>positionText</th>\n",
       "      <th>positionOrder</th>\n",
       "      <th>points</th>\n",
       "      <th>laps</th>\n",
       "      <th>time</th>\n",
       "      <th>milliseconds</th>\n",
       "      <th>fastestLap</th>\n",
       "      <th>rank</th>\n",
       "      <th>fastestLapTime</th>\n",
       "      <th>fastestLapSpeed</th>\n",
       "      <th>statusId</th>\n",
       "    </tr>\n",
       "  </thead>\n",
       "  <tbody>\n",
       "    <tr>\n",
       "      <th>0</th>\n",
       "      <td>1</td>\n",
       "      <td>18</td>\n",
       "      <td>1</td>\n",
       "      <td>1</td>\n",
       "      <td>22</td>\n",
       "      <td>1</td>\n",
       "      <td>1</td>\n",
       "      <td>1</td>\n",
       "      <td>1</td>\n",
       "      <td>10.0</td>\n",
       "      <td>58</td>\n",
       "      <td>1:34:50.616</td>\n",
       "      <td>5690616</td>\n",
       "      <td>39</td>\n",
       "      <td>2</td>\n",
       "      <td>1:27.452</td>\n",
       "      <td>218.300</td>\n",
       "      <td>1</td>\n",
       "    </tr>\n",
       "    <tr>\n",
       "      <th>1</th>\n",
       "      <td>2</td>\n",
       "      <td>18</td>\n",
       "      <td>2</td>\n",
       "      <td>2</td>\n",
       "      <td>3</td>\n",
       "      <td>5</td>\n",
       "      <td>2</td>\n",
       "      <td>2</td>\n",
       "      <td>2</td>\n",
       "      <td>8.0</td>\n",
       "      <td>58</td>\n",
       "      <td>+5.478</td>\n",
       "      <td>5696094</td>\n",
       "      <td>41</td>\n",
       "      <td>3</td>\n",
       "      <td>1:27.739</td>\n",
       "      <td>217.586</td>\n",
       "      <td>1</td>\n",
       "    </tr>\n",
       "    <tr>\n",
       "      <th>2</th>\n",
       "      <td>3</td>\n",
       "      <td>18</td>\n",
       "      <td>3</td>\n",
       "      <td>3</td>\n",
       "      <td>7</td>\n",
       "      <td>7</td>\n",
       "      <td>3</td>\n",
       "      <td>3</td>\n",
       "      <td>3</td>\n",
       "      <td>6.0</td>\n",
       "      <td>58</td>\n",
       "      <td>+8.163</td>\n",
       "      <td>5698779</td>\n",
       "      <td>41</td>\n",
       "      <td>5</td>\n",
       "      <td>1:28.090</td>\n",
       "      <td>216.719</td>\n",
       "      <td>1</td>\n",
       "    </tr>\n",
       "    <tr>\n",
       "      <th>3</th>\n",
       "      <td>4</td>\n",
       "      <td>18</td>\n",
       "      <td>4</td>\n",
       "      <td>4</td>\n",
       "      <td>5</td>\n",
       "      <td>11</td>\n",
       "      <td>4</td>\n",
       "      <td>4</td>\n",
       "      <td>4</td>\n",
       "      <td>5.0</td>\n",
       "      <td>58</td>\n",
       "      <td>+17.181</td>\n",
       "      <td>5707797</td>\n",
       "      <td>58</td>\n",
       "      <td>7</td>\n",
       "      <td>1:28.603</td>\n",
       "      <td>215.464</td>\n",
       "      <td>1</td>\n",
       "    </tr>\n",
       "    <tr>\n",
       "      <th>4</th>\n",
       "      <td>5</td>\n",
       "      <td>18</td>\n",
       "      <td>5</td>\n",
       "      <td>1</td>\n",
       "      <td>23</td>\n",
       "      <td>3</td>\n",
       "      <td>5</td>\n",
       "      <td>5</td>\n",
       "      <td>5</td>\n",
       "      <td>4.0</td>\n",
       "      <td>58</td>\n",
       "      <td>+18.014</td>\n",
       "      <td>5708630</td>\n",
       "      <td>43</td>\n",
       "      <td>1</td>\n",
       "      <td>1:27.418</td>\n",
       "      <td>218.385</td>\n",
       "      <td>1</td>\n",
       "    </tr>\n",
       "    <tr>\n",
       "      <th>...</th>\n",
       "      <td>...</td>\n",
       "      <td>...</td>\n",
       "      <td>...</td>\n",
       "      <td>...</td>\n",
       "      <td>...</td>\n",
       "      <td>...</td>\n",
       "      <td>...</td>\n",
       "      <td>...</td>\n",
       "      <td>...</td>\n",
       "      <td>...</td>\n",
       "      <td>...</td>\n",
       "      <td>...</td>\n",
       "      <td>...</td>\n",
       "      <td>...</td>\n",
       "      <td>...</td>\n",
       "      <td>...</td>\n",
       "      <td>...</td>\n",
       "      <td>...</td>\n",
       "    </tr>\n",
       "    <tr>\n",
       "      <th>24975</th>\n",
       "      <td>24981</td>\n",
       "      <td>1052</td>\n",
       "      <td>854</td>\n",
       "      <td>210</td>\n",
       "      <td>47</td>\n",
       "      <td>18</td>\n",
       "      <td>16</td>\n",
       "      <td>16</td>\n",
       "      <td>16</td>\n",
       "      <td>0.0</td>\n",
       "      <td>55</td>\n",
       "      <td>\\N</td>\n",
       "      <td>\\N</td>\n",
       "      <td>38</td>\n",
       "      <td>18</td>\n",
       "      <td>1:36.134</td>\n",
       "      <td>202.667</td>\n",
       "      <td>11</td>\n",
       "    </tr>\n",
       "    <tr>\n",
       "      <th>24976</th>\n",
       "      <td>24982</td>\n",
       "      <td>1052</td>\n",
       "      <td>842</td>\n",
       "      <td>213</td>\n",
       "      <td>10</td>\n",
       "      <td>5</td>\n",
       "      <td>17</td>\n",
       "      <td>17</td>\n",
       "      <td>17</td>\n",
       "      <td>0.0</td>\n",
       "      <td>52</td>\n",
       "      <td>\\N</td>\n",
       "      <td>\\N</td>\n",
       "      <td>48</td>\n",
       "      <td>5</td>\n",
       "      <td>1:34.090</td>\n",
       "      <td>207.069</td>\n",
       "      <td>31</td>\n",
       "    </tr>\n",
       "    <tr>\n",
       "      <th>24977</th>\n",
       "      <td>24983</td>\n",
       "      <td>1052</td>\n",
       "      <td>849</td>\n",
       "      <td>3</td>\n",
       "      <td>6</td>\n",
       "      <td>17</td>\n",
       "      <td>18</td>\n",
       "      <td>18</td>\n",
       "      <td>18</td>\n",
       "      <td>0.0</td>\n",
       "      <td>51</td>\n",
       "      <td>\\N</td>\n",
       "      <td>\\N</td>\n",
       "      <td>16</td>\n",
       "      <td>19</td>\n",
       "      <td>1:36.602</td>\n",
       "      <td>201.685</td>\n",
       "      <td>31</td>\n",
       "    </tr>\n",
       "    <tr>\n",
       "      <th>24978</th>\n",
       "      <td>24984</td>\n",
       "      <td>1052</td>\n",
       "      <td>4</td>\n",
       "      <td>214</td>\n",
       "      <td>14</td>\n",
       "      <td>9</td>\n",
       "      <td>\\N</td>\n",
       "      <td>R</td>\n",
       "      <td>19</td>\n",
       "      <td>0.0</td>\n",
       "      <td>32</td>\n",
       "      <td>\\N</td>\n",
       "      <td>\\N</td>\n",
       "      <td>31</td>\n",
       "      <td>17</td>\n",
       "      <td>1:36.063</td>\n",
       "      <td>202.816</td>\n",
       "      <td>23</td>\n",
       "    </tr>\n",
       "    <tr>\n",
       "      <th>24979</th>\n",
       "      <td>24985</td>\n",
       "      <td>1052</td>\n",
       "      <td>853</td>\n",
       "      <td>210</td>\n",
       "      <td>9</td>\n",
       "      <td>19</td>\n",
       "      <td>\\N</td>\n",
       "      <td>R</td>\n",
       "      <td>20</td>\n",
       "      <td>0.0</td>\n",
       "      <td>0</td>\n",
       "      <td>\\N</td>\n",
       "      <td>\\N</td>\n",
       "      <td>\\N</td>\n",
       "      <td>0</td>\n",
       "      <td>\\N</td>\n",
       "      <td>\\N</td>\n",
       "      <td>3</td>\n",
       "    </tr>\n",
       "  </tbody>\n",
       "</table>\n",
       "<p>24980 rows × 18 columns</p>\n",
       "</div>"
      ],
      "text/plain": [
       "       resultId  raceId  driverId  constructorId number  grid position  \\\n",
       "0             1      18         1              1     22     1        1   \n",
       "1             2      18         2              2      3     5        2   \n",
       "2             3      18         3              3      7     7        3   \n",
       "3             4      18         4              4      5    11        4   \n",
       "4             5      18         5              1     23     3        5   \n",
       "...         ...     ...       ...            ...    ...   ...      ...   \n",
       "24975     24981    1052       854            210     47    18       16   \n",
       "24976     24982    1052       842            213     10     5       17   \n",
       "24977     24983    1052       849              3      6    17       18   \n",
       "24978     24984    1052         4            214     14     9       \\N   \n",
       "24979     24985    1052       853            210      9    19       \\N   \n",
       "\n",
       "      positionText  positionOrder  points  laps         time milliseconds  \\\n",
       "0                1              1    10.0    58  1:34:50.616      5690616   \n",
       "1                2              2     8.0    58       +5.478      5696094   \n",
       "2                3              3     6.0    58       +8.163      5698779   \n",
       "3                4              4     5.0    58      +17.181      5707797   \n",
       "4                5              5     4.0    58      +18.014      5708630   \n",
       "...            ...            ...     ...   ...          ...          ...   \n",
       "24975           16             16     0.0    55           \\N           \\N   \n",
       "24976           17             17     0.0    52           \\N           \\N   \n",
       "24977           18             18     0.0    51           \\N           \\N   \n",
       "24978            R             19     0.0    32           \\N           \\N   \n",
       "24979            R             20     0.0     0           \\N           \\N   \n",
       "\n",
       "      fastestLap rank fastestLapTime fastestLapSpeed  statusId  \n",
       "0             39    2       1:27.452         218.300         1  \n",
       "1             41    3       1:27.739         217.586         1  \n",
       "2             41    5       1:28.090         216.719         1  \n",
       "3             58    7       1:28.603         215.464         1  \n",
       "4             43    1       1:27.418         218.385         1  \n",
       "...          ...  ...            ...             ...       ...  \n",
       "24975         38   18       1:36.134         202.667        11  \n",
       "24976         48    5       1:34.090         207.069        31  \n",
       "24977         16   19       1:36.602         201.685        31  \n",
       "24978         31   17       1:36.063         202.816        23  \n",
       "24979         \\N    0             \\N              \\N         3  \n",
       "\n",
       "[24980 rows x 18 columns]"
      ]
     },
     "execution_count": 171,
     "metadata": {},
     "output_type": "execute_result"
    }
   ],
   "source": [
    "df = pd.read_csv('../Python/data/F1_results.csv') \n",
    "df"
   ]
  },
  {
   "cell_type": "code",
   "execution_count": 172,
   "metadata": {},
   "outputs": [
    {
     "name": "stdout",
     "output_type": "stream",
     "text": [
      "<class 'pandas.core.frame.DataFrame'>\n",
      "RangeIndex: 24980 entries, 0 to 24979\n",
      "Data columns (total 16 columns):\n",
      " #   Column           Non-Null Count  Dtype  \n",
      "---  ------           --------------  -----  \n",
      " 0   raceId           24980 non-null  int64  \n",
      " 1   driverId         24980 non-null  int64  \n",
      " 2   constructorId    24980 non-null  int64  \n",
      " 3   number           24980 non-null  object \n",
      " 4   grid             24980 non-null  int64  \n",
      " 5   position         24980 non-null  object \n",
      " 6   positionText     24980 non-null  object \n",
      " 7   positionOrder    24980 non-null  int64  \n",
      " 8   points           24980 non-null  float64\n",
      " 9   laps             24980 non-null  int64  \n",
      " 10  time             24980 non-null  object \n",
      " 11  milliseconds     24980 non-null  object \n",
      " 12  fastestLap       24980 non-null  object \n",
      " 13  rank             24980 non-null  object \n",
      " 14  fastestLapTime   24980 non-null  object \n",
      " 15  fastestLapSpeed  24980 non-null  object \n",
      "dtypes: float64(1), int64(6), object(9)\n",
      "memory usage: 3.0+ MB\n"
     ]
    }
   ],
   "source": [
    "df.drop(['resultId', 'statusId'], axis = 1, inplace = True)\n",
    "df.info()"
   ]
  },
  {
   "cell_type": "markdown",
   "metadata": {},
   "source": [
    "## Contexte:\n",
    "##### Le Championnat du Monde de Formule 1 de la FIA est l'une des premières formes de course dans le monde depuis sa saison inaugurale en 1950. Une saison de Formule 1 consiste en une série de courses, appelées Grands Prix. Durant ces courses des écurie (constructeur) composé de deux pilotes chacunes s'affronte en effectuant un certains nombres de tours sur des circuits dans le monde entier.\n",
    "\n",
    "##### Ce dataset contient les données des résulats de tous les courses de F1 de l'année 1950 à 2021 :\n",
    "\n",
    "raceId: Identifiant de la course\n",
    "\n",
    "driverId: Identifiant du pilote\n",
    "\n",
    "constructorId : Identifiant du constructeur\n",
    "\n",
    "number: Numéro de la voiture\n",
    "\n",
    "grid: Position du pilote sur la ligne de départ\n",
    "\n",
    "position: Position du pilote à l'arriver\n",
    "\n",
    "positionOrder: Position du pilote au championnat\n",
    "\n",
    "points: Nombre de points remporté\n",
    "\n",
    "laps: Nombre de tours éffectué\n",
    "\n",
    "time: Temps total de course\n",
    "\n",
    "milliseconds: Temps total en milisecondes\n",
    "\n",
    "fastestLap: Tour auquel le pilote à été le plus rapide\n",
    "\n",
    "rank: Position par rapport au temps le rappide sur un tour\n",
    "\n",
    "fastestLapTime: Temps le plus rapide sur un tour\n",
    "\n",
    "fastestLapSpeed: vitesse la plus rapide sur un tour"
   ]
  },
  {
   "cell_type": "markdown",
   "metadata": {},
   "source": [
    "### Les analyses suivantes concernent que les données de la course 18"
   ]
  },
  {
   "cell_type": "code",
   "execution_count": 173,
   "metadata": {},
   "outputs": [
    {
     "data": {
      "text/html": [
       "<div>\n",
       "<style scoped>\n",
       "    .dataframe tbody tr th:only-of-type {\n",
       "        vertical-align: middle;\n",
       "    }\n",
       "\n",
       "    .dataframe tbody tr th {\n",
       "        vertical-align: top;\n",
       "    }\n",
       "\n",
       "    .dataframe thead th {\n",
       "        text-align: right;\n",
       "    }\n",
       "</style>\n",
       "<table border=\"1\" class=\"dataframe\">\n",
       "  <thead>\n",
       "    <tr style=\"text-align: right;\">\n",
       "      <th></th>\n",
       "      <th>raceId</th>\n",
       "      <th>driverId</th>\n",
       "      <th>constructorId</th>\n",
       "      <th>number</th>\n",
       "      <th>grid</th>\n",
       "      <th>position</th>\n",
       "      <th>positionText</th>\n",
       "      <th>positionOrder</th>\n",
       "      <th>points</th>\n",
       "      <th>laps</th>\n",
       "      <th>time</th>\n",
       "      <th>milliseconds</th>\n",
       "      <th>fastestLap</th>\n",
       "      <th>rank</th>\n",
       "      <th>fastestLapTime</th>\n",
       "      <th>fastestLapSpeed</th>\n",
       "    </tr>\n",
       "  </thead>\n",
       "  <tbody>\n",
       "    <tr>\n",
       "      <th>0</th>\n",
       "      <td>18</td>\n",
       "      <td>1</td>\n",
       "      <td>1</td>\n",
       "      <td>22</td>\n",
       "      <td>1</td>\n",
       "      <td>1</td>\n",
       "      <td>1</td>\n",
       "      <td>1</td>\n",
       "      <td>10.0</td>\n",
       "      <td>58</td>\n",
       "      <td>1:34:50.616</td>\n",
       "      <td>5690616</td>\n",
       "      <td>39</td>\n",
       "      <td>2</td>\n",
       "      <td>1:27.452</td>\n",
       "      <td>218.300</td>\n",
       "    </tr>\n",
       "    <tr>\n",
       "      <th>1</th>\n",
       "      <td>18</td>\n",
       "      <td>2</td>\n",
       "      <td>2</td>\n",
       "      <td>3</td>\n",
       "      <td>5</td>\n",
       "      <td>2</td>\n",
       "      <td>2</td>\n",
       "      <td>2</td>\n",
       "      <td>8.0</td>\n",
       "      <td>58</td>\n",
       "      <td>+5.478</td>\n",
       "      <td>5696094</td>\n",
       "      <td>41</td>\n",
       "      <td>3</td>\n",
       "      <td>1:27.739</td>\n",
       "      <td>217.586</td>\n",
       "    </tr>\n",
       "    <tr>\n",
       "      <th>2</th>\n",
       "      <td>18</td>\n",
       "      <td>3</td>\n",
       "      <td>3</td>\n",
       "      <td>7</td>\n",
       "      <td>7</td>\n",
       "      <td>3</td>\n",
       "      <td>3</td>\n",
       "      <td>3</td>\n",
       "      <td>6.0</td>\n",
       "      <td>58</td>\n",
       "      <td>+8.163</td>\n",
       "      <td>5698779</td>\n",
       "      <td>41</td>\n",
       "      <td>5</td>\n",
       "      <td>1:28.090</td>\n",
       "      <td>216.719</td>\n",
       "    </tr>\n",
       "    <tr>\n",
       "      <th>3</th>\n",
       "      <td>18</td>\n",
       "      <td>4</td>\n",
       "      <td>4</td>\n",
       "      <td>5</td>\n",
       "      <td>11</td>\n",
       "      <td>4</td>\n",
       "      <td>4</td>\n",
       "      <td>4</td>\n",
       "      <td>5.0</td>\n",
       "      <td>58</td>\n",
       "      <td>+17.181</td>\n",
       "      <td>5707797</td>\n",
       "      <td>58</td>\n",
       "      <td>7</td>\n",
       "      <td>1:28.603</td>\n",
       "      <td>215.464</td>\n",
       "    </tr>\n",
       "    <tr>\n",
       "      <th>4</th>\n",
       "      <td>18</td>\n",
       "      <td>5</td>\n",
       "      <td>1</td>\n",
       "      <td>23</td>\n",
       "      <td>3</td>\n",
       "      <td>5</td>\n",
       "      <td>5</td>\n",
       "      <td>5</td>\n",
       "      <td>4.0</td>\n",
       "      <td>58</td>\n",
       "      <td>+18.014</td>\n",
       "      <td>5708630</td>\n",
       "      <td>43</td>\n",
       "      <td>1</td>\n",
       "      <td>1:27.418</td>\n",
       "      <td>218.385</td>\n",
       "    </tr>\n",
       "    <tr>\n",
       "      <th>5</th>\n",
       "      <td>18</td>\n",
       "      <td>6</td>\n",
       "      <td>3</td>\n",
       "      <td>8</td>\n",
       "      <td>13</td>\n",
       "      <td>6</td>\n",
       "      <td>6</td>\n",
       "      <td>6</td>\n",
       "      <td>3.0</td>\n",
       "      <td>57</td>\n",
       "      <td>\\N</td>\n",
       "      <td>\\N</td>\n",
       "      <td>50</td>\n",
       "      <td>14</td>\n",
       "      <td>1:29.639</td>\n",
       "      <td>212.974</td>\n",
       "    </tr>\n",
       "    <tr>\n",
       "      <th>6</th>\n",
       "      <td>18</td>\n",
       "      <td>7</td>\n",
       "      <td>5</td>\n",
       "      <td>14</td>\n",
       "      <td>17</td>\n",
       "      <td>7</td>\n",
       "      <td>7</td>\n",
       "      <td>7</td>\n",
       "      <td>2.0</td>\n",
       "      <td>55</td>\n",
       "      <td>\\N</td>\n",
       "      <td>\\N</td>\n",
       "      <td>22</td>\n",
       "      <td>12</td>\n",
       "      <td>1:29.534</td>\n",
       "      <td>213.224</td>\n",
       "    </tr>\n",
       "    <tr>\n",
       "      <th>7</th>\n",
       "      <td>18</td>\n",
       "      <td>8</td>\n",
       "      <td>6</td>\n",
       "      <td>1</td>\n",
       "      <td>15</td>\n",
       "      <td>8</td>\n",
       "      <td>8</td>\n",
       "      <td>8</td>\n",
       "      <td>1.0</td>\n",
       "      <td>53</td>\n",
       "      <td>\\N</td>\n",
       "      <td>\\N</td>\n",
       "      <td>20</td>\n",
       "      <td>4</td>\n",
       "      <td>1:27.903</td>\n",
       "      <td>217.180</td>\n",
       "    </tr>\n",
       "    <tr>\n",
       "      <th>8</th>\n",
       "      <td>18</td>\n",
       "      <td>9</td>\n",
       "      <td>2</td>\n",
       "      <td>4</td>\n",
       "      <td>2</td>\n",
       "      <td>\\N</td>\n",
       "      <td>R</td>\n",
       "      <td>9</td>\n",
       "      <td>0.0</td>\n",
       "      <td>47</td>\n",
       "      <td>\\N</td>\n",
       "      <td>\\N</td>\n",
       "      <td>15</td>\n",
       "      <td>9</td>\n",
       "      <td>1:28.753</td>\n",
       "      <td>215.100</td>\n",
       "    </tr>\n",
       "    <tr>\n",
       "      <th>9</th>\n",
       "      <td>18</td>\n",
       "      <td>10</td>\n",
       "      <td>7</td>\n",
       "      <td>12</td>\n",
       "      <td>18</td>\n",
       "      <td>\\N</td>\n",
       "      <td>R</td>\n",
       "      <td>10</td>\n",
       "      <td>0.0</td>\n",
       "      <td>43</td>\n",
       "      <td>\\N</td>\n",
       "      <td>\\N</td>\n",
       "      <td>23</td>\n",
       "      <td>13</td>\n",
       "      <td>1:29.558</td>\n",
       "      <td>213.166</td>\n",
       "    </tr>\n",
       "    <tr>\n",
       "      <th>10</th>\n",
       "      <td>18</td>\n",
       "      <td>11</td>\n",
       "      <td>8</td>\n",
       "      <td>18</td>\n",
       "      <td>19</td>\n",
       "      <td>\\N</td>\n",
       "      <td>R</td>\n",
       "      <td>11</td>\n",
       "      <td>0.0</td>\n",
       "      <td>32</td>\n",
       "      <td>\\N</td>\n",
       "      <td>\\N</td>\n",
       "      <td>24</td>\n",
       "      <td>15</td>\n",
       "      <td>1:30.892</td>\n",
       "      <td>210.038</td>\n",
       "    </tr>\n",
       "    <tr>\n",
       "      <th>11</th>\n",
       "      <td>18</td>\n",
       "      <td>12</td>\n",
       "      <td>4</td>\n",
       "      <td>6</td>\n",
       "      <td>20</td>\n",
       "      <td>\\N</td>\n",
       "      <td>R</td>\n",
       "      <td>12</td>\n",
       "      <td>0.0</td>\n",
       "      <td>30</td>\n",
       "      <td>\\N</td>\n",
       "      <td>\\N</td>\n",
       "      <td>20</td>\n",
       "      <td>16</td>\n",
       "      <td>1:31.384</td>\n",
       "      <td>208.907</td>\n",
       "    </tr>\n",
       "    <tr>\n",
       "      <th>12</th>\n",
       "      <td>18</td>\n",
       "      <td>13</td>\n",
       "      <td>6</td>\n",
       "      <td>2</td>\n",
       "      <td>4</td>\n",
       "      <td>\\N</td>\n",
       "      <td>R</td>\n",
       "      <td>13</td>\n",
       "      <td>0.0</td>\n",
       "      <td>29</td>\n",
       "      <td>\\N</td>\n",
       "      <td>\\N</td>\n",
       "      <td>23</td>\n",
       "      <td>6</td>\n",
       "      <td>1:28.175</td>\n",
       "      <td>216.510</td>\n",
       "    </tr>\n",
       "    <tr>\n",
       "      <th>13</th>\n",
       "      <td>18</td>\n",
       "      <td>14</td>\n",
       "      <td>9</td>\n",
       "      <td>9</td>\n",
       "      <td>8</td>\n",
       "      <td>\\N</td>\n",
       "      <td>R</td>\n",
       "      <td>14</td>\n",
       "      <td>0.0</td>\n",
       "      <td>25</td>\n",
       "      <td>\\N</td>\n",
       "      <td>\\N</td>\n",
       "      <td>21</td>\n",
       "      <td>11</td>\n",
       "      <td>1:29.502</td>\n",
       "      <td>213.300</td>\n",
       "    </tr>\n",
       "    <tr>\n",
       "      <th>14</th>\n",
       "      <td>18</td>\n",
       "      <td>15</td>\n",
       "      <td>7</td>\n",
       "      <td>11</td>\n",
       "      <td>6</td>\n",
       "      <td>\\N</td>\n",
       "      <td>R</td>\n",
       "      <td>15</td>\n",
       "      <td>0.0</td>\n",
       "      <td>19</td>\n",
       "      <td>\\N</td>\n",
       "      <td>\\N</td>\n",
       "      <td>18</td>\n",
       "      <td>10</td>\n",
       "      <td>1:29.310</td>\n",
       "      <td>213.758</td>\n",
       "    </tr>\n",
       "    <tr>\n",
       "      <th>15</th>\n",
       "      <td>18</td>\n",
       "      <td>16</td>\n",
       "      <td>10</td>\n",
       "      <td>20</td>\n",
       "      <td>22</td>\n",
       "      <td>\\N</td>\n",
       "      <td>R</td>\n",
       "      <td>16</td>\n",
       "      <td>0.0</td>\n",
       "      <td>8</td>\n",
       "      <td>\\N</td>\n",
       "      <td>\\N</td>\n",
       "      <td>8</td>\n",
       "      <td>17</td>\n",
       "      <td>1:32.021</td>\n",
       "      <td>207.461</td>\n",
       "    </tr>\n",
       "    <tr>\n",
       "      <th>16</th>\n",
       "      <td>18</td>\n",
       "      <td>17</td>\n",
       "      <td>9</td>\n",
       "      <td>10</td>\n",
       "      <td>14</td>\n",
       "      <td>\\N</td>\n",
       "      <td>R</td>\n",
       "      <td>17</td>\n",
       "      <td>0.0</td>\n",
       "      <td>0</td>\n",
       "      <td>\\N</td>\n",
       "      <td>\\N</td>\n",
       "      <td>\\N</td>\n",
       "      <td>\\N</td>\n",
       "      <td>\\N</td>\n",
       "      <td>\\N</td>\n",
       "    </tr>\n",
       "    <tr>\n",
       "      <th>17</th>\n",
       "      <td>18</td>\n",
       "      <td>18</td>\n",
       "      <td>11</td>\n",
       "      <td>16</td>\n",
       "      <td>12</td>\n",
       "      <td>\\N</td>\n",
       "      <td>R</td>\n",
       "      <td>18</td>\n",
       "      <td>0.0</td>\n",
       "      <td>0</td>\n",
       "      <td>\\N</td>\n",
       "      <td>\\N</td>\n",
       "      <td>\\N</td>\n",
       "      <td>\\N</td>\n",
       "      <td>\\N</td>\n",
       "      <td>\\N</td>\n",
       "    </tr>\n",
       "    <tr>\n",
       "      <th>18</th>\n",
       "      <td>18</td>\n",
       "      <td>19</td>\n",
       "      <td>8</td>\n",
       "      <td>19</td>\n",
       "      <td>21</td>\n",
       "      <td>\\N</td>\n",
       "      <td>R</td>\n",
       "      <td>19</td>\n",
       "      <td>0.0</td>\n",
       "      <td>0</td>\n",
       "      <td>\\N</td>\n",
       "      <td>\\N</td>\n",
       "      <td>\\N</td>\n",
       "      <td>\\N</td>\n",
       "      <td>\\N</td>\n",
       "      <td>\\N</td>\n",
       "    </tr>\n",
       "    <tr>\n",
       "      <th>19</th>\n",
       "      <td>18</td>\n",
       "      <td>20</td>\n",
       "      <td>5</td>\n",
       "      <td>15</td>\n",
       "      <td>9</td>\n",
       "      <td>\\N</td>\n",
       "      <td>R</td>\n",
       "      <td>20</td>\n",
       "      <td>0.0</td>\n",
       "      <td>0</td>\n",
       "      <td>\\N</td>\n",
       "      <td>\\N</td>\n",
       "      <td>\\N</td>\n",
       "      <td>\\N</td>\n",
       "      <td>\\N</td>\n",
       "      <td>\\N</td>\n",
       "    </tr>\n",
       "    <tr>\n",
       "      <th>20</th>\n",
       "      <td>18</td>\n",
       "      <td>21</td>\n",
       "      <td>10</td>\n",
       "      <td>21</td>\n",
       "      <td>16</td>\n",
       "      <td>\\N</td>\n",
       "      <td>R</td>\n",
       "      <td>21</td>\n",
       "      <td>0.0</td>\n",
       "      <td>0</td>\n",
       "      <td>\\N</td>\n",
       "      <td>\\N</td>\n",
       "      <td>\\N</td>\n",
       "      <td>\\N</td>\n",
       "      <td>\\N</td>\n",
       "      <td>\\N</td>\n",
       "    </tr>\n",
       "    <tr>\n",
       "      <th>21</th>\n",
       "      <td>18</td>\n",
       "      <td>22</td>\n",
       "      <td>11</td>\n",
       "      <td>17</td>\n",
       "      <td>10</td>\n",
       "      <td>\\N</td>\n",
       "      <td>D</td>\n",
       "      <td>22</td>\n",
       "      <td>0.0</td>\n",
       "      <td>58</td>\n",
       "      <td>\\N</td>\n",
       "      <td>\\N</td>\n",
       "      <td>44</td>\n",
       "      <td>8</td>\n",
       "      <td>1:28.736</td>\n",
       "      <td>215.141</td>\n",
       "    </tr>\n",
       "  </tbody>\n",
       "</table>\n",
       "</div>"
      ],
      "text/plain": [
       "    raceId  driverId  constructorId number  grid position positionText  \\\n",
       "0       18         1              1     22     1        1            1   \n",
       "1       18         2              2      3     5        2            2   \n",
       "2       18         3              3      7     7        3            3   \n",
       "3       18         4              4      5    11        4            4   \n",
       "4       18         5              1     23     3        5            5   \n",
       "5       18         6              3      8    13        6            6   \n",
       "6       18         7              5     14    17        7            7   \n",
       "7       18         8              6      1    15        8            8   \n",
       "8       18         9              2      4     2       \\N            R   \n",
       "9       18        10              7     12    18       \\N            R   \n",
       "10      18        11              8     18    19       \\N            R   \n",
       "11      18        12              4      6    20       \\N            R   \n",
       "12      18        13              6      2     4       \\N            R   \n",
       "13      18        14              9      9     8       \\N            R   \n",
       "14      18        15              7     11     6       \\N            R   \n",
       "15      18        16             10     20    22       \\N            R   \n",
       "16      18        17              9     10    14       \\N            R   \n",
       "17      18        18             11     16    12       \\N            R   \n",
       "18      18        19              8     19    21       \\N            R   \n",
       "19      18        20              5     15     9       \\N            R   \n",
       "20      18        21             10     21    16       \\N            R   \n",
       "21      18        22             11     17    10       \\N            D   \n",
       "\n",
       "    positionOrder  points  laps         time milliseconds fastestLap rank  \\\n",
       "0               1    10.0    58  1:34:50.616      5690616         39    2   \n",
       "1               2     8.0    58       +5.478      5696094         41    3   \n",
       "2               3     6.0    58       +8.163      5698779         41    5   \n",
       "3               4     5.0    58      +17.181      5707797         58    7   \n",
       "4               5     4.0    58      +18.014      5708630         43    1   \n",
       "5               6     3.0    57           \\N           \\N         50   14   \n",
       "6               7     2.0    55           \\N           \\N         22   12   \n",
       "7               8     1.0    53           \\N           \\N         20    4   \n",
       "8               9     0.0    47           \\N           \\N         15    9   \n",
       "9              10     0.0    43           \\N           \\N         23   13   \n",
       "10             11     0.0    32           \\N           \\N         24   15   \n",
       "11             12     0.0    30           \\N           \\N         20   16   \n",
       "12             13     0.0    29           \\N           \\N         23    6   \n",
       "13             14     0.0    25           \\N           \\N         21   11   \n",
       "14             15     0.0    19           \\N           \\N         18   10   \n",
       "15             16     0.0     8           \\N           \\N          8   17   \n",
       "16             17     0.0     0           \\N           \\N         \\N   \\N   \n",
       "17             18     0.0     0           \\N           \\N         \\N   \\N   \n",
       "18             19     0.0     0           \\N           \\N         \\N   \\N   \n",
       "19             20     0.0     0           \\N           \\N         \\N   \\N   \n",
       "20             21     0.0     0           \\N           \\N         \\N   \\N   \n",
       "21             22     0.0    58           \\N           \\N         44    8   \n",
       "\n",
       "   fastestLapTime fastestLapSpeed  \n",
       "0        1:27.452         218.300  \n",
       "1        1:27.739         217.586  \n",
       "2        1:28.090         216.719  \n",
       "3        1:28.603         215.464  \n",
       "4        1:27.418         218.385  \n",
       "5        1:29.639         212.974  \n",
       "6        1:29.534         213.224  \n",
       "7        1:27.903         217.180  \n",
       "8        1:28.753         215.100  \n",
       "9        1:29.558         213.166  \n",
       "10       1:30.892         210.038  \n",
       "11       1:31.384         208.907  \n",
       "12       1:28.175         216.510  \n",
       "13       1:29.502         213.300  \n",
       "14       1:29.310         213.758  \n",
       "15       1:32.021         207.461  \n",
       "16             \\N              \\N  \n",
       "17             \\N              \\N  \n",
       "18             \\N              \\N  \n",
       "19             \\N              \\N  \n",
       "20             \\N              \\N  \n",
       "21       1:28.736         215.141  "
      ]
     },
     "execution_count": 173,
     "metadata": {},
     "output_type": "execute_result"
    }
   ],
   "source": [
    "df.drop( df[ df['raceId'] != 18 ].index, inplace=True)\n",
    "df"
   ]
  },
  {
   "cell_type": "markdown",
   "metadata": {},
   "source": [
    "##### Analyse de l'évolution de la vitesse des F1 au fil des tours"
   ]
  },
  {
   "cell_type": "code",
   "execution_count": 174,
   "metadata": {},
   "outputs": [
    {
     "data": {
      "text/plain": [
       "<seaborn.axisgrid.FacetGrid at 0x1a74fac7910>"
      ]
     },
     "execution_count": 174,
     "metadata": {},
     "output_type": "execute_result"
    },
    {
     "data": {
      "image/png": "[encoded data removed]",
      "text/plain": [
       "<Figure size 1728x576 with 1 Axes>"
      ]
     },
     "metadata": {
      "needs_background": "light"
     },
     "output_type": "display_data"
    }
   ],
   "source": [
    "sns.relplot(data=df, x=\"laps\", y=\"fastestLapSpeed\", kind=\"line\", height=8, aspect=3)"
   ]
  },
  {
   "cell_type": "raw",
   "metadata": {},
   "source": [
    "On remarque que l'évolution de la vitesse de F1 au fil des tours est assez constant. \n",
    "On peut émettre l'hypothèse que plus les F1 éffectue des tours plus elle vont vite"
   ]
  },
  {
   "cell_type": "markdown",
   "metadata": {},
   "source": [
    "##### Analyse de l'évolution du temps au tour par rapport à la vitesse au tour "
   ]
  },
  {
   "cell_type": "code",
   "execution_count": 175,
   "metadata": {},
   "outputs": [
    {
     "data": {
      "text/plain": [
       "<seaborn.axisgrid.FacetGrid at 0x1a74f8c3c40>"
      ]
     },
     "execution_count": 175,
     "metadata": {},
     "output_type": "execute_result"
    },
    {
     "data": {
      "image/png": "[encoded data removed]",
      "text/plain": [
       "<Figure size 1728x576 with 1 Axes>"
      ]
     },
     "metadata": {
      "needs_background": "light"
     },
     "output_type": "display_data"
    }
   ],
   "source": [
    "sns.relplot(data=df, x=\"fastestLapTime\", y=\"fastestLapSpeed\", kind=\"line\", height=8, aspect=3)"
   ]
  },
  {
   "cell_type": "raw",
   "metadata": {},
   "source": [
    "On remarque qu'il y a une corélation de 1 entre le temps éffectue sur un tour par une F1 et sa vitesse sur ce même tour.\n",
    "Ont peut émettre l'hypothèse que plus une F1 roule vite plus son temps au tour est faible."
   ]
  },
  {
   "cell_type": "markdown",
   "metadata": {},
   "source": [
    "#### Analyse de l'évolution des positions d'arriver par rapport aux positions de départ"
   ]
  },
  {
   "cell_type": "code",
   "execution_count": 176,
   "metadata": {},
   "outputs": [
    {
     "data": {
      "text/plain": [
       "<seaborn.axisgrid.FacetGrid at 0x1a74fa56ee0>"
      ]
     },
     "execution_count": 176,
     "metadata": {},
     "output_type": "execute_result"
    },
    {
     "data": {
      "image/png": "[encoded data removed]",
      "text/plain": [
       "<Figure size 1728x576 with 1 Axes>"
      ]
     },
     "metadata": {
      "needs_background": "light"
     },
     "output_type": "display_data"
    }
   ],
   "source": [
    "sns.relplot(data=df, x=\"position\", y=\"grid\", kind='line', height=8, aspect=3, )"
   ]
  },
  {
   "cell_type": "code",
   "execution_count": 177,
   "metadata": {},
   "outputs": [],
   "source": [
    "#"
   ]
  },
  {
   "cell_type": "markdown",
   "metadata": {},
   "source": [
    "#### Analyse de l'écart temps de course total entres les pilotes"
   ]
  },
  {
   "cell_type": "code",
   "execution_count": 178,
   "metadata": {},
   "outputs": [
    {
     "data": {
      "text/plain": [
       "<seaborn.axisgrid.FacetGrid at 0x1a74f8bc430>"
      ]
     },
     "execution_count": 178,
     "metadata": {},
     "output_type": "execute_result"
    },
    {
     "data": {
      "image/png": "[encoded data removed]",
      "text/plain": [
       "<Figure size 1728x576 with 1 Axes>"
      ]
     },
     "metadata": {
      "needs_background": "light"
     },
     "output_type": "display_data"
    }
   ],
   "source": [
    "sns.relplot(data=df, x=\"milliseconds\", y=\"driverId\", kind=\"line\", height=8, aspect=3)\n"
   ]
  },
  {
   "cell_type": "code",
   "execution_count": 179,
   "metadata": {},
   "outputs": [],
   "source": [
    "#"
   ]
  },
  {
   "cell_type": "markdown",
   "metadata": {},
   "source": [
    "#### Analyse de la répartition des points"
   ]
  },
  {
   "cell_type": "code",
   "execution_count": 198,
   "metadata": {},
   "outputs": [
    {
     "name": "stderr",
     "output_type": "stream",
     "text": [
      "C:\\Users\\xavir\\anaconda3\\lib\\site-packages\\seaborn\\distributions.py:2551: FutureWarning: `distplot` is a deprecated function and will be removed in a future version. Please adapt your code to use either `displot` (a figure-level function with similar flexibility) or `histplot` (an axes-level function for histograms).\n",
      "  warnings.warn(msg, FutureWarning)\n"
     ]
    },
    {
     "data": {
      "text/plain": [
       "<AxesSubplot:xlabel='points', ylabel='Density'>"
      ]
     },
     "execution_count": 198,
     "metadata": {},
     "output_type": "execute_result"
    },
    {
     "data": {
      "image/png": "[encoded data removed]",
      "text/plain": [
       "<Figure size 432x288 with 1 Axes>"
      ]
     },
     "metadata": {
      "needs_background": "light"
     },
     "output_type": "display_data"
    }
   ],
   "source": [
    "sns.distplot(df.points)"
   ]
  },
  {
   "cell_type": "code",
   "execution_count": null,
   "metadata": {},
   "outputs": [],
   "source": [
    "#"
   ]
  },
  {
   "cell_type": "markdown",
   "metadata": {},
   "source": [
    "# Données catégoriques"
   ]
  },
  {
   "cell_type": "markdown",
   "metadata": {},
   "source": [
    "#### Analyse de la distribution de points par constructeurs"
   ]
  },
  {
   "cell_type": "code",
   "execution_count": 133,
   "metadata": {},
   "outputs": [
    {
     "data": {
      "text/plain": [
       "<seaborn.axisgrid.FacetGrid at 0x1a73fbd1a60>"
      ]
     },
     "execution_count": 133,
     "metadata": {},
     "output_type": "execute_result"
    },
    {
     "data": {
      "image/png": "[encoded data removed]",
      "text/plain": [
       "<Figure size 1728x576 with 1 Axes>"
      ]
     },
     "metadata": {
      "needs_background": "light"
     },
     "output_type": "display_data"
    }
   ],
   "source": [
    "sns.catplot(x=\"constructorId\", y=\"points\", data= df, kind=\"bar\", height=8, aspect=3)"
   ]
  },
  {
   "cell_type": "code",
   "execution_count": null,
   "metadata": {},
   "outputs": [],
   "source": [
    "# "
   ]
  },
  {
   "cell_type": "markdown",
   "metadata": {},
   "source": [
    "#### Analyse du nombre total de tours par constructeurs"
   ]
  },
  {
   "cell_type": "code",
   "execution_count": 134,
   "metadata": {},
   "outputs": [
    {
     "data": {
      "text/plain": [
       "<seaborn.axisgrid.FacetGrid at 0x1a73fbb4af0>"
      ]
     },
     "execution_count": 134,
     "metadata": {},
     "output_type": "execute_result"
    },
    {
     "data": {
      "image/png": "[encoded data removed]",
      "text/plain": [
       "<Figure size 1728x576 with 1 Axes>"
      ]
     },
     "metadata": {
      "needs_background": "light"
     },
     "output_type": "display_data"
    }
   ],
   "source": [
    "sns.catplot(x=\"constructorId\", y=\"laps\", data= df, kind=\"bar\", height=8, aspect=3)"
   ]
  },
  {
   "cell_type": "code",
   "execution_count": null,
   "metadata": {},
   "outputs": [],
   "source": [
    "#"
   ]
  },
  {
   "cell_type": "markdown",
   "metadata": {},
   "source": [
    "#### Analyse du temps total des course des constructeurs"
   ]
  },
  {
   "cell_type": "code",
   "execution_count": 135,
   "metadata": {},
   "outputs": [
    {
     "data": {
      "text/plain": [
       "<seaborn.axisgrid.FacetGrid at 0x1a73fb5d9a0>"
      ]
     },
     "execution_count": 135,
     "metadata": {},
     "output_type": "execute_result"
    },
    {
     "data": {
      "image/png": "[encoded data removed]",
      "text/plain": [
       "<Figure size 1728x576 with 1 Axes>"
      ]
     },
     "metadata": {
      "needs_background": "light"
     },
     "output_type": "display_data"
    }
   ],
   "source": [
    "sns.catplot(x=\"milliseconds\", y=\"constructorId\", data= df, kind=\"bar\", height=8, aspect=3)"
   ]
  },
  {
   "cell_type": "code",
   "execution_count": null,
   "metadata": {},
   "outputs": [],
   "source": [
    "#"
   ]
  },
  {
   "cell_type": "markdown",
   "metadata": {},
   "source": [
    "# Boite à moustache"
   ]
  },
  {
   "cell_type": "markdown",
   "metadata": {},
   "source": [
    "#### Analyse de la répartition des pilotes par constructeurs"
   ]
  },
  {
   "cell_type": "code",
   "execution_count": 142,
   "metadata": {},
   "outputs": [
    {
     "data": {
      "text/plain": [
       "<AxesSubplot:xlabel='constructorId', ylabel='driverId'>"
      ]
     },
     "execution_count": 142,
     "metadata": {},
     "output_type": "execute_result"
    },
    {
     "data": {
      "image/png": "[encoded data removed]",
      "text/plain": [
       "<Figure size 432x288 with 1 Axes>"
      ]
     },
     "metadata": {
      "needs_background": "light"
     },
     "output_type": "display_data"
    }
   ],
   "source": [
    "sns.boxplot(x=\"constructorId\", y=\"driverId\", data=df)"
   ]
  },
  {
   "cell_type": "code",
   "execution_count": null,
   "metadata": {},
   "outputs": [],
   "source": [
    "# Il n'y a pas de données abérantes"
   ]
  },
  {
   "cell_type": "markdown",
   "metadata": {},
   "source": [
    "# Heat map"
   ]
  },
  {
   "cell_type": "code",
   "execution_count": 85,
   "metadata": {},
   "outputs": [
    {
     "data": {
      "text/html": [
       "<div>\n",
       "<style scoped>\n",
       "    .dataframe tbody tr th:only-of-type {\n",
       "        vertical-align: middle;\n",
       "    }\n",
       "\n",
       "    .dataframe tbody tr th {\n",
       "        vertical-align: top;\n",
       "    }\n",
       "\n",
       "    .dataframe thead th {\n",
       "        text-align: right;\n",
       "    }\n",
       "</style>\n",
       "<table border=\"1\" class=\"dataframe\">\n",
       "  <thead>\n",
       "    <tr style=\"text-align: right;\">\n",
       "      <th></th>\n",
       "      <th>raceId</th>\n",
       "      <th>driverId</th>\n",
       "      <th>constructorId</th>\n",
       "      <th>grid</th>\n",
       "      <th>positionOrder</th>\n",
       "      <th>points</th>\n",
       "      <th>laps</th>\n",
       "    </tr>\n",
       "  </thead>\n",
       "  <tbody>\n",
       "    <tr>\n",
       "      <th>raceId</th>\n",
       "      <td>NaN</td>\n",
       "      <td>NaN</td>\n",
       "      <td>NaN</td>\n",
       "      <td>NaN</td>\n",
       "      <td>NaN</td>\n",
       "      <td>NaN</td>\n",
       "      <td>NaN</td>\n",
       "    </tr>\n",
       "    <tr>\n",
       "      <th>driverId</th>\n",
       "      <td>NaN</td>\n",
       "      <td>1.000000</td>\n",
       "      <td>0.829231</td>\n",
       "      <td>0.384529</td>\n",
       "      <td>1.000000</td>\n",
       "      <td>-0.799877</td>\n",
       "      <td>-0.795746</td>\n",
       "    </tr>\n",
       "    <tr>\n",
       "      <th>constructorId</th>\n",
       "      <td>NaN</td>\n",
       "      <td>0.829231</td>\n",
       "      <td>1.000000</td>\n",
       "      <td>0.534695</td>\n",
       "      <td>0.829231</td>\n",
       "      <td>-0.697285</td>\n",
       "      <td>-0.652336</td>\n",
       "    </tr>\n",
       "    <tr>\n",
       "      <th>grid</th>\n",
       "      <td>NaN</td>\n",
       "      <td>0.384529</td>\n",
       "      <td>0.534695</td>\n",
       "      <td>1.000000</td>\n",
       "      <td>0.384529</td>\n",
       "      <td>-0.496688</td>\n",
       "      <td>-0.395248</td>\n",
       "    </tr>\n",
       "    <tr>\n",
       "      <th>positionOrder</th>\n",
       "      <td>NaN</td>\n",
       "      <td>1.000000</td>\n",
       "      <td>0.829231</td>\n",
       "      <td>0.384529</td>\n",
       "      <td>1.000000</td>\n",
       "      <td>-0.799877</td>\n",
       "      <td>-0.795746</td>\n",
       "    </tr>\n",
       "    <tr>\n",
       "      <th>points</th>\n",
       "      <td>NaN</td>\n",
       "      <td>-0.799877</td>\n",
       "      <td>-0.697285</td>\n",
       "      <td>-0.496688</td>\n",
       "      <td>-0.799877</td>\n",
       "      <td>1.000000</td>\n",
       "      <td>0.623813</td>\n",
       "    </tr>\n",
       "    <tr>\n",
       "      <th>laps</th>\n",
       "      <td>NaN</td>\n",
       "      <td>-0.795746</td>\n",
       "      <td>-0.652336</td>\n",
       "      <td>-0.395248</td>\n",
       "      <td>-0.795746</td>\n",
       "      <td>0.623813</td>\n",
       "      <td>1.000000</td>\n",
       "    </tr>\n",
       "  </tbody>\n",
       "</table>\n",
       "</div>"
      ],
      "text/plain": [
       "               raceId  driverId  constructorId      grid  positionOrder  \\\n",
       "raceId            NaN       NaN            NaN       NaN            NaN   \n",
       "driverId          NaN  1.000000       0.829231  0.384529       1.000000   \n",
       "constructorId     NaN  0.829231       1.000000  0.534695       0.829231   \n",
       "grid              NaN  0.384529       0.534695  1.000000       0.384529   \n",
       "positionOrder     NaN  1.000000       0.829231  0.384529       1.000000   \n",
       "points            NaN -0.799877      -0.697285 -0.496688      -0.799877   \n",
       "laps              NaN -0.795746      -0.652336 -0.395248      -0.795746   \n",
       "\n",
       "                 points      laps  \n",
       "raceId              NaN       NaN  \n",
       "driverId      -0.799877 -0.795746  \n",
       "constructorId -0.697285 -0.652336  \n",
       "grid          -0.496688 -0.395248  \n",
       "positionOrder -0.799877 -0.795746  \n",
       "points         1.000000  0.623813  \n",
       "laps           0.623813  1.000000  "
      ]
     },
     "execution_count": 85,
     "metadata": {},
     "output_type": "execute_result"
    }
   ],
   "source": [
    "corr = df.corr()\n",
    "corr"
   ]
  },
  {
   "cell_type": "code",
   "execution_count": 86,
   "metadata": {},
   "outputs": [
    {
     "data": {
      "text/plain": [
       "<AxesSubplot:>"
      ]
     },
     "execution_count": 86,
     "metadata": {},
     "output_type": "execute_result"
    },
    {
     "data": {
      "image/png": "[encoded data removed]",
      "text/plain": [
       "<Figure size 1440x360 with 2 Axes>"
      ]
     },
     "metadata": {
      "needs_background": "light"
     },
     "output_type": "display_data"
    }
   ],
   "source": [
    "f, ax = plt.subplots(figsize=(20,5))\n",
    "sns.heatmap(corr, annot=True, ax =ax)\n",
    "#plt.savefig('heatmapEX1.png')"
   ]
  },
  {
   "cell_type": "code",
   "execution_count": null,
   "metadata": {},
   "outputs": [],
   "source": []
  }
 ],
 "metadata": {
  "kernelspec": {
   "display_name": "Python 3",
   "language": "python",
   "name": "python3"
  },
  "language_info": {
   "codemirror_mode": {
    "name": "ipython",
    "version": 3
   },
   "file_extension": ".py",
   "mimetype": "text/x-python",
   "name": "python",
   "nbconvert_exporter": "python",
   "pygments_lexer": "ipython3",
   "version": "3.8.5"
  }
 },
 "nbformat": 4,
 "nbformat_minor": 4
}

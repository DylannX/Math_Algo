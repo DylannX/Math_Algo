{
 "cells": [
  {
   "cell_type": "markdown",
   "metadata": {},
   "source": [
    "# Exercices de POO"
   ]
  },
  {
   "cell_type": "markdown",
   "metadata": {},
   "source": [
    "### Le compte bancaire"
   ]
  },
  {
   "cell_type": "raw",
   "metadata": {},
   "source": [
    "Écrire un programme python qui permet de définir une classe CompteBancaire(), qui permette d’instancier des objets tels que compte1, compte2, etc. Le constructeur de cette classe initialisera deux attributs d’instance nom et solde, avec les valeurs par défaut ’Dupont’ et 1000.\n",
    "\n",
    "Trois autres méthodes seront définies :\n",
    "\n",
    "depot(somme) permettra d’ajouter une certaine somme au solde ;\n",
    "retrait(somme) permettra de retirer une certaine somme du solde ;\n",
    "affiche() permettra d’afficher le nom du titulaire et le solde de son compte.\n"
   ]
  },
  {
   "cell_type": "code",
   "execution_count": 258,
   "metadata": {},
   "outputs": [],
   "source": [
    "class CompteBancaire:\n",
    "    \n",
    "    def __init__(self, nom=\"Dupont\", solde=1000):\n",
    "        self.nom = nom\n",
    "        self.solde = solde        \n",
    "\n",
    "    def depot(self, somme):\n",
    "        self.solde += somme\n",
    "\n",
    "    def retrait(self, somme):\n",
    "        self.solde = self.solde - somme\n",
    "\n",
    "    def affiche(self): \n",
    "        print(\"Le solde du compte bancaire de \"+self.nom+\" est de \"+str(self.solde)+\" euros.\")\n",
    "        \n"
   ]
  },
  {
   "cell_type": "code",
   "execution_count": 259,
   "metadata": {},
   "outputs": [
    {
     "name": "stdout",
     "output_type": "stream",
     "text": [
      "Le solde du compte bancaire de Dupont est de 1150 euros.\n",
      "Le solde du compte bancaire de Dupont est de 1025 euros.\n"
     ]
    }
   ],
   "source": [
    ">>> compte1 = CompteBancaire(\"Dupont\", 1000)\n",
    ">>> compte1.depot(350)\n",
    ">>> compte1.retrait(200)\n",
    ">>> compte1.affiche()\n",
    "\n",
    ">>> compte2 = CompteBancaire()\n",
    ">>> compte2.depot(25)\n",
    ">>> compte2.affiche()"
   ]
  },
  {
   "cell_type": "markdown",
   "metadata": {},
   "source": [
    "### La surcharge d'opérateur"
   ]
  },
  {
   "cell_type": "markdown",
   "metadata": {},
   "source": [
    "Définir une classe Point avec un constructeur, un point est définit soit par deux coordonnées x et y, s’il s’agit d’une représentation d’un point au plan ou par trois coordonnées x, y et z, s’il s’agit d’une représentation d’un point en espace.\n",
    "\n",
    "La classe Point doit contenir une méthode ToString qui affiche le point."
   ]
  },
  {
   "cell_type": "code",
   "execution_count": 260,
   "metadata": {},
   "outputs": [],
   "source": [
    "class Point:\n",
    "    \n",
    "    def __init__(self, x, y, z=None):\n",
    "        self.x = x\n",
    "        self.y = y\n",
    "        if z is not None:\n",
    "            self.z = z\n",
    "        else:\n",
    "            self.z = None\n",
    "\n",
    "    def ToString(self): \n",
    "        if self.z is None:\n",
    "            return \"P({:.2f}, {:.2f})\".format(self.x, self.y)\n",
    "        else :\n",
    "            return \"P({:.2f}, {:.2f}, {:.2f})\".format(self.x, self.y, self.z)     "
   ]
  },
  {
   "cell_type": "code",
   "execution_count": 261,
   "metadata": {},
   "outputs": [
    {
     "data": {
      "text/plain": [
       "'P(2.00, 3.00)'"
      ]
     },
     "execution_count": 261,
     "metadata": {},
     "output_type": "execute_result"
    }
   ],
   "source": [
    ">>> P1=Point(2,3)\n",
    ">>> P1.ToString()"
   ]
  },
  {
   "cell_type": "code",
   "execution_count": 112,
   "metadata": {},
   "outputs": [
    {
     "data": {
      "text/plain": [
       "'P(1.00, -5.00, 6.00)'"
      ]
     },
     "execution_count": 112,
     "metadata": {},
     "output_type": "execute_result"
    }
   ],
   "source": [
    ">>> P2=Point(1,-5,6)\n",
    ">>> P2.ToString()"
   ]
  },
  {
   "cell_type": "markdown",
   "metadata": {},
   "source": [
    "### L'héritage simple"
   ]
  },
  {
   "cell_type": "raw",
   "metadata": {},
   "source": [
    "Définir les classes suivantes:\n",
    "\n",
    "Une classe DateNaissance avec trois attributs, jour, mois, année et une méthode ToString qui convertit la date de naissance en chaine de caractères\n",
    "Une classe Personne avec trois attributs, nom, prénom et date de naissance et une méthode polymorphe Afficher pour afficher les données de chaque personne.\n",
    "Une classe Employé qui dérive de la classe Personne, avec en plus un attribut Salaire et la redéfinition de la méthode Afficher.\n",
    "Une classe Chef qui dérive de la classe Employé, avec en plus un attribut Service et la redéfinition de la méthode Afficher."
   ]
  },
  {
   "cell_type": "code",
   "execution_count": 1,
   "metadata": {},
   "outputs": [],
   "source": [
    "class DateNaissance:\n",
    "    \n",
    "    def __init__(self, jour, mois, annee):\n",
    "        self.jour = jour\n",
    "        self.mois = mois\n",
    "        self.annee = annee\n",
    "\n",
    "    def ToString(self): \n",
    "            return \"Date de naissance: {:02d}/{:02d}/{}\".format(self.jour, self.mois, self.annee)\n",
    "   "
   ]
  },
  {
   "cell_type": "code",
   "execution_count": 2,
   "metadata": {},
   "outputs": [],
   "source": [
    "class Personne():\n",
    "    \n",
    "    def __init__(self, nom, prenom, date_naissance: DateNaissance): \n",
    "        self.nom = nom\n",
    "        self.prenom = prenom\n",
    "        self.date_naissance = date_naissance\n",
    "\n",
    "    def Afficher(self): \n",
    "        print(\"Nom: \"+self.nom)\n",
    "        print(\"Prénom: \"+self.prenom)\n",
    "        print(self.date_naissance.ToString())\n"
   ]
  },
  {
   "cell_type": "code",
   "execution_count": 3,
   "metadata": {},
   "outputs": [],
   "source": [
    "class Employe(Personne):\n",
    "    \n",
    "    def __init__(self, nom, prenom, date_naissance, salaire): \n",
    "        super().__init__(nom, prenom, date_naissance)\n",
    "        self.salaire = salaire\n",
    "\n",
    "    def Afficher(self): \n",
    "        super().Afficher()\n",
    "        print(\"Salaire: \"+str(self.salaire)+\" €\")\n",
    "   "
   ]
  },
  {
   "cell_type": "code",
   "execution_count": 4,
   "metadata": {},
   "outputs": [],
   "source": [
    "class Chef(Employe):\n",
    "    \n",
    "    def __init__(self, nom, prenom, date_naissance, salaire, service): \n",
    "        super().__init__(nom, prenom, date_naissance, salaire)\n",
    "        self.service = service\n",
    "\n",
    "    def Afficher(self): \n",
    "        super().Afficher()\n",
    "        print(\"Service: \"+self.service)\n",
    "   "
   ]
  },
  {
   "cell_type": "code",
   "execution_count": 5,
   "metadata": {},
   "outputs": [
    {
     "name": "stdout",
     "output_type": "stream",
     "text": [
      "Nom: Ilyass\n",
      "Prénom: Math\n",
      "Date de naissance: 01/07/1982\n"
     ]
    }
   ],
   "source": [
    ">>> P=Personne('Ilyass','Math',DateNaissance(1,7,1982))\n",
    ">>> P.Afficher()"
   ]
  },
  {
   "cell_type": "code",
   "execution_count": 6,
   "metadata": {},
   "outputs": [
    {
     "name": "stdout",
     "output_type": "stream",
     "text": [
      "Nom: Ilyass\n",
      "Prénom: Math\n",
      "Date de naissance: 01/07/1985\n",
      "Salaire: 7865.548 €\n"
     ]
    }
   ],
   "source": [
    ">>> E=Employe('Ilyass','Math',DateNaissance(1,7,1985),7865.548)\n",
    ">>> E.Afficher()"
   ]
  },
  {
   "cell_type": "code",
   "execution_count": 7,
   "metadata": {},
   "outputs": [
    {
     "name": "stdout",
     "output_type": "stream",
     "text": [
      "Nom: Ilyass\n",
      "Prénom: Math\n",
      "Date de naissance: 01/07/1988\n",
      "Salaire: 7865.548 €\n",
      "Service: Ressource humaine\n"
     ]
    }
   ],
   "source": [
    "\n",
    ">>> Ch=Chef('Ilyass','Math',DateNaissance(1,7,1988),7865.548,'Ressource humaine')\n",
    ">>> Ch.Afficher()"
   ]
  },
  {
   "cell_type": "markdown",
   "metadata": {},
   "source": [
    "### Le polymorphisme"
   ]
  },
  {
   "cell_type": "raw",
   "metadata": {},
   "source": [
    "Une boîtes aux lettres recueille des courrier qui peuvent être des lettres ou des colis.\n",
    "\n",
    "Une lettre est caractérisée par :\n",
    "\n",
    "son poids (en grammes) le mode d’expédition (express ou normal) son adresse de destination son adresse d’expédition son format (“A3” ou “A4”) Un colis est caractérisé par :\n",
    "\n",
    "son poids (en grammes) le mode d’expédition (express ou normal) son adresse de destination son adresse d’expédition son volume (en litres ) Il faut donc définir aussi les deux méthodes:\n",
    "\n",
    "calculTimbre: qui calcule le prix du Timbre ToString qui affiche un courrier Règles pour calculer le prix du Timbre :\n",
    "\n",
    "en mode d’expédition normal :\n",
    "\n",
    "Le montant nécessaire pour affranchir une lettre dépend de son format et de son poids : Formule : montant = tarif de base + 1.0 * poids (kilos), où le tarif de base pour une lettre “A4” est de 2.50, et 3.50 pour une lettre “A3”\n",
    "\n",
    "Le montant nécessaire pour affranchir un colis dépend de son poids et de son volume : Formule : montant = 0.25 volume (litres) + poids (kilos) 1.0\n",
    "\n",
    "en mode d’expédition express : les montants précédents sont doublés, quelque soit le type de courrier"
   ]
  },
  {
   "cell_type": "code",
   "execution_count": 113,
   "metadata": {},
   "outputs": [],
   "source": [
    "class Courrier:\n",
    "    \n",
    "    def __init__(self, poids, mode_expedition, destination, expedition):\n",
    "        self.poids = poids\n",
    "        self.mode_expedition = mode_expedition\n",
    "        self.destination = destination\n",
    "        self.expedition = expedition\n",
    "        \n",
    "    def ToString(self): \n",
    "        print(\"Adresse destination: \"+self.destination)\n",
    "        print(\"Adresse expedition: \"+self.expedition)\n",
    "        print(\"Poids: \"+\"{:.2f}\".format(self.poids)+\" grammes\")\n",
    "        print(\"Mode: \"+self.mode_expedition)"
   ]
  },
  {
   "cell_type": "code",
   "execution_count": 114,
   "metadata": {},
   "outputs": [],
   "source": [
    "class Lettre(Courrier):\n",
    "    \n",
    "    def __init__(self, poids, mode_expedition, destination, expedition, _format):\n",
    "        super().__init__(poids, mode_expedition, destination, expedition)\n",
    "        self._format = _format\n",
    "        \n",
    "    def calculTimbre(self):\n",
    "        if(self._format == \"A4\"):\n",
    "            if(self.mode_expedition == \"normal\"):\n",
    "                montant=2.50*self.poids/100\n",
    "                return \"{:.2f}\".format(montant)+\" €\"\n",
    "            elif(self.mode_expedition == \"expresse\"):\n",
    "                montant=(2.50*self.poids/100)*2\n",
    "                return \"{:.2f}\".format(montant)+\" €\"\n",
    "            \n",
    "        if(self._format == \"A3\"):\n",
    "            if(self.mode_expedition == \"normal\"):\n",
    "                montant=3.50 *self.poids/100\n",
    "                return \"{:.2f}\".format(montant)+\" €\"\n",
    "            elif(self.mode_expedition == \"expresse\"):\n",
    "                montant=(3.50 *self.poids/100)*2\n",
    "                return \"{:.2f}\".format(montant)+\" €\"\n",
    "\n",
    "    def ToString(self): \n",
    "        print(\"Lettre:\")\n",
    "        super().ToString()\n",
    "        print(\"Format: \"+self._format)\n",
    "        print(\"Prix du timbre: \"+self.calculTimbre())          \n"
   ]
  },
  {
   "cell_type": "code",
   "execution_count": 115,
   "metadata": {},
   "outputs": [],
   "source": [
    "class Colis(Courrier):\n",
    "    \n",
    "    def __init__(self, poids, mode_expedition, destination, expedition, _volume):\n",
    "        super().__init__(poids, mode_expedition, destination, expedition)\n",
    "        self._volume = _volume\n",
    "\n",
    "    def calculTimbre(self):\n",
    "        if(self.mode_expedition == \"normal\"):\n",
    "            montant=0.25*self._volume*self.poids/1000\n",
    "            return \"{:.2f}\".format(montant)+\" €\"\n",
    "        elif(self.mode_expedition == \"expresse\"):\n",
    "            montant=(0.25*self._volume*self.poids/1000)*2\n",
    "            return \"{:.2f}\".format(montant)+\" €\"\n",
    "\n",
    "    def ToString(self): \n",
    "        print(\"Collis:\")\n",
    "        super().ToString()\n",
    "        print(\"Volume: \"+str(self._volume))\n",
    "        print(\"Prix du timbre: \"+self.calculTimbre())          \n"
   ]
  },
  {
   "cell_type": "code",
   "execution_count": 116,
   "metadata": {},
   "outputs": [
    {
     "name": "stdout",
     "output_type": "stream",
     "text": [
      "Lettre:\n",
      "Adresse destination: Lille\n",
      "Adresse expedition: Paris\n",
      "Poids: 80.00 grammes\n",
      "Mode: normal\n",
      "Format: A4\n",
      "Prix du timbre: 2.00 €\n"
     ]
    }
   ],
   "source": [
    "L1=Lettre(80, \"normal\", \"Lille\", \"Paris\",\"A4\")\n",
    "L1.ToString()"
   ]
  },
  {
   "cell_type": "code",
   "execution_count": 117,
   "metadata": {},
   "outputs": [
    {
     "name": "stdout",
     "output_type": "stream",
     "text": [
      "Collis:\n",
      "Adresse destination: Marrakeche\n",
      "Adresse expedition: Barcelone\n",
      "Poids: 3500.00 grammes\n",
      "Mode: expresse\n",
      "Volume: 2.25\n",
      "Prix du timbre: 3.94 €\n"
     ]
    }
   ],
   "source": [
    "C1=Colis(3500, \"expresse\", \"Marrakeche\", \"Barcelone\", 2.25)\n",
    "C1.ToString()"
   ]
  },
  {
   "cell_type": "code",
   "execution_count": null,
   "metadata": {},
   "outputs": [],
   "source": []
  }
 ],
 "metadata": {
  "kernelspec": {
   "display_name": "Python 3",
   "language": "python",
   "name": "python3"
  },
  "language_info": {
   "codemirror_mode": {
    "name": "ipython",
    "version": 3
   },
   "file_extension": ".py",
   "mimetype": "text/x-python",
   "name": "python",
   "nbconvert_exporter": "python",
   "pygments_lexer": "ipython3",
   "version": "3.8.5"
  }
 },
 "nbformat": 4,
 "nbformat_minor": 4
}
